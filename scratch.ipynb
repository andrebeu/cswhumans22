{
 "cells": [
  {
   "cell_type": "markdown",
   "metadata": {},
   "source": [
    "### calculate csw exp costs"
   ]
  },
  {
   "cell_type": "code",
   "execution_count": 23,
   "metadata": {},
   "outputs": [
    {
     "name": "stdout",
     "output_type": "stream",
     "text": [
      "The autoreload extension is already loaded. To reload it, use:\n",
      "  %reload_ext autoreload\n"
     ]
    }
   ],
   "source": [
    "import os, re\n",
    "import pandas as pd\n",
    "import numpy as np\n",
    "import json\n",
    "\n",
    "from matplotlib import pyplot as plt\n",
    "%matplotlib inline\n",
    "plt.rcParams['font.size'] = 22\n",
    "\n",
    "%load_ext autoreload\n",
    "%reload_ext autoreload\n",
    "%autoreload 2\n",
    "\n",
    "def get_sql_df(exp_version=None,verb=False):\n",
    "  import sqlite3 as sql\n",
    "  from glob import glob as glob\n",
    "  db_fpath = 'csw_mturk_spring19.db'\n",
    "  with sql.connect(db_fpath) as conn:\n",
    "    # connection objecs represent the database\n",
    "    # cursor objects point to rows in the database\n",
    "    c = conn.cursor()\n",
    "\n",
    "    # list tables in database\n",
    "    c.execute(\"SELECT name FROM sqlite_master WHERE type='table'\")\n",
    "    tables_in_db = c.fetchall()\n",
    "    table_name = \"CSWfall18\" # table name must be constant to prevent repeat subjects\n",
    "\n",
    "    # table header\n",
    "    c.execute(\"PRAGMA table_info(%s)\"%table_name)\n",
    "    col_names = [i[1] for i in c.fetchall()]\n",
    "\n",
    "    # select everything within table\n",
    "    db_datastring = c.execute(\"\"\"SELECT * FROM %s\"\"\"%table_name).fetchall()\n",
    "    sql_df = pd.DataFrame(db_datastring,columns=col_names)\n",
    "    \n",
    "    # remove unneeded rows \n",
    "    sql_df = sql_df[sql_df['mode'] != 'debug'] # debug rows\n",
    "    sql_df = sql_df[pd.notnull(sql_df['datastring'])] # rows with no datastring \n",
    "    # return only select code version\n",
    "    versions = sql_df.codeversion.unique()\n",
    "    if verb:\n",
    "      print('exp versions found in table:')\n",
    "      for v in versions: print(v)\n",
    "    # if version not specified, take latest\n",
    "    if exp_version==None:\n",
    "      exp_version = versions[-1]\n",
    "    if verb:\n",
    "      print('\\n-loading code version:',exp_version)\n",
    "    sql_df = sql_df[sql_df.codeversion == exp_version]\n",
    "    if verb:\n",
    "      print('N =',len(sql_df),'subjects')\n",
    "  return sql_df"
   ]
  },
  {
   "cell_type": "code",
   "execution_count": 32,
   "metadata": {},
   "outputs": [
    {
     "name": "stdout",
     "output_type": "stream",
     "text": [
      "exp versions found in table:\n",
      "10.13.18\n",
      "1000cl\n",
      "1000clq\n",
      "9010cl\n",
      "i1000cl\n",
      "20B1000cl\n",
      "RT01B1000cl\n",
      "csw1000block40.04.07.19\n",
      "csw1000block01.04.25.19\n",
      "csw1000block02.04.26.19\n",
      "csw1000rand50.04.29.19\n",
      "csw1000block01intheloc.05.01.19\n",
      "csw1000rand01.05.03.19\n",
      "csw1000block02.05.07.19\n",
      "csw1000boldmdp.05.09.19\n",
      "csw1000insertedblock0.09.22.19\n",
      "csw1000insertedblock1.09.30.19\n",
      "csw1000insertedblock1.10.07.19\n",
      "csw1000insertedblock0.10.08.19\n",
      "csw1000insertedblock2.10.09.19\n",
      "csw1000insertedblock2.10.10.19\n",
      "\n",
      "-loading code version: csw1000insertedblock2.10.10.19\n",
      "N = 56 subjects\n"
     ]
    }
   ],
   "source": [
    "_ = get_sql_df(verb=True)"
   ]
  },
  {
   "cell_type": "code",
   "execution_count": 33,
   "metadata": {},
   "outputs": [],
   "source": [
    "dnameL = [\n",
    "  'csw1000block40.04.07.19',\n",
    "  'csw1000block01.04.25.19',\n",
    "  'csw1000block02.04.26.19',\n",
    "  'csw1000rand50.04.29.19',\n",
    "  'csw1000block01intheloc.05.01.19',\n",
    "  'csw1000rand01.05.03.19',\n",
    "  'csw1000block02.05.07.19',\n",
    "  'csw1000boldmdp.05.09.19',\n",
    "  'csw1000insertedblock0.09.22.19',\n",
    "  'csw1000insertedblock1.09.30.19',\n",
    "  'csw1000insertedblock1.10.07.19',\n",
    "  'csw1000insertedblock0.10.08.19',\n",
    "  'csw1000insertedblock2.10.09.19',\n",
    "  'csw1000insertedblock2.10.10.19',\n",
    "]\n"
   ]
  },
  {
   "cell_type": "code",
   "execution_count": 35,
   "metadata": {},
   "outputs": [
    {
     "name": "stdout",
     "output_type": "stream",
     "text": [
      "csw1000block40.04.07.19 63 427.71000000000004\n",
      "csw1000block01.04.25.19 56 382.29\n",
      "csw1000block02.04.26.19 55 358.9\n",
      "csw1000rand50.04.29.19 78 494.66999999999996\n",
      "csw1000block01intheloc.05.01.19 52 363.63\n",
      "csw1000rand01.05.03.19 50 351.81\n",
      "csw1000block02.05.07.19 52 369.64\n",
      "csw1000boldmdp.05.09.19 52 371.53\n",
      "csw1000insertedblock0.09.22.19 51 312.81\n",
      "csw1000insertedblock1.09.30.19 56 374.22\n",
      "csw1000insertedblock1.10.07.19 51 351.75\n",
      "csw1000insertedblock0.10.08.19 57 382.25\n",
      "csw1000insertedblock2.10.09.19 51 351.58\n",
      "csw1000insertedblock2.10.10.19 56 359.1\n"
     ]
    }
   ],
   "source": [
    "for dname in dnameL:\n",
    "  sql_df = get_sql_df(dname)\n",
    "  total_exp_bonus = sql_df['bonus'].sum()\n",
    "  nsubs,_ = sql_df.shape\n",
    "  total_exp_cost = nsubs*4 + total_exp_bonus\n",
    "  print(dname,nsubs,total_exp_cost)"
   ]
  },
  {
   "cell_type": "code",
   "execution_count": null,
   "metadata": {},
   "outputs": [],
   "source": []
  }
 ],
 "metadata": {
  "kernelspec": {
   "display_name": "Python 3",
   "language": "python",
   "name": "python3"
  },
  "language_info": {
   "codemirror_mode": {
    "name": "ipython",
    "version": 3
   },
   "file_extension": ".py",
   "mimetype": "text/x-python",
   "name": "python",
   "nbconvert_exporter": "python",
   "pygments_lexer": "ipython3",
   "version": "3.8.8"
  }
 },
 "nbformat": 4,
 "nbformat_minor": 2
}
