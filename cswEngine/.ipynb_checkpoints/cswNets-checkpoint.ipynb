{
 "cells": [
  {
   "cell_type": "raw",
   "metadata": {},
   "source": [
    "https://www.tensorflow.org/tutorials/layers on how to setup network with softmax layer. \n"
   ]
  },
  {
   "cell_type": "code",
   "execution_count": 1,
   "metadata": {},
   "outputs": [
    {
     "name": "stderr",
     "output_type": "stream",
     "text": [
      "/Users/abeukers/anaconda/lib/python3.6/site-packages/h5py/__init__.py:34: FutureWarning: Conversion of the second argument of issubdtype from `float` to `np.floating` is deprecated. In future, it will be treated as `np.float64 == np.dtype(float).type`.\n",
      "  from ._conv import register_converters as _register_converters\n"
     ]
    }
   ],
   "source": [
    "import json\n",
    "import os,re\n",
    "\n",
    "import numpy as np\n",
    "import tensorflow as tf\n",
    "import matplotlib.pyplot as plt\n",
    "%matplotlib inline\n",
    "\n",
    "from cswEngine import *\n",
    "from cswMturk import *\n",
    "from cswNets import *\n",
    "\n",
    "%load_ext autoreload\n",
    "%reload_ext autoreload\n",
    "%autoreload 2"
   ]
  },
  {
   "cell_type": "raw",
   "metadata": {},
   "source": [
    "simplest case: given st(t) preditct st(t+1)\n",
    "goal: keep thing extendible, but dont get bogged down\n",
    "\n",
    "gen_vect_seq(path_L) [onehot for now], form a vocab (either learned or fixed),\n",
    "\n",
    "FF softmax. gen_data: given path_L,  group pairs of adjacent vectors. train=test. (option: vocab is random vects, vocab is onehot & first layer is linear embedding layer)\n",
    "\n",
    "RNN2 softmax. {x:[st(t),st(t+1)],y:[st(t+2)]}."
   ]
  },
  {
   "cell_type": "code",
   "execution_count": 79,
   "metadata": {},
   "outputs": [],
   "source": [
    "# vec_seq = gen_NetExp(1)\n",
    "v = np.zeros([5,1]); v[0] = 1.0\n",
    "vec_seq = np.hstack([np.eye(5),v]).transpose()\n",
    "\n",
    "X_train,Y_train = get_XY_matrices(vec_seq)\n",
    "\n"
   ]
  },
  {
   "cell_type": "code",
   "execution_count": 140,
   "metadata": {},
   "outputs": [],
   "source": [
    "X_train = np.array([\n",
    "            [1,0,0],[1,0,0],[1,0,0],[1,0,0],\n",
    "            [0,1,0],[0,1,0],[0,1,0],[0,1,0],\n",
    "            [0,0,1],[0,0,1],[0,0,1],[0,0,1],\n",
    "            ])\n",
    "Y_train = np.array([\n",
    "            [0,1,0],[0,1,0],[0,1,0],[0,0,1],\n",
    "            [0,0,1],[0,0,1],[0,0,1],[0,0,1],\n",
    "            [1,0,0],[1,0,0],[1,0,0],[1,0,0],\n",
    "            ])"
   ]
  },
  {
   "cell_type": "code",
   "execution_count": 157,
   "metadata": {
    "collapsed": true
   },
   "outputs": [],
   "source": [
    "X_train = np.array([[1],[1],[0],[0]])\n",
    "Y_train = np.array([[0,1],[0,1],[1,0],[1,0]])"
   ]
  },
  {
   "cell_type": "code",
   "execution_count": 158,
   "metadata": {
    "scrolled": true
   },
   "outputs": [
    {
     "ename": "ValueError",
     "evalue": "Cannot feed value of shape (4, 2) for Tensor 'Placeholder_1:0', which has shape '(?, 1)'",
     "output_type": "error",
     "traceback": [
      "\u001b[0;31m---------------------------------------------------------------------------\u001b[0m",
      "\u001b[0;31mValueError\u001b[0m                                Traceback (most recent call last)",
      "\u001b[0;32m<ipython-input-158-ffca44227002>\u001b[0m in \u001b[0;36m<module>\u001b[0;34m()\u001b[0m\n\u001b[1;32m     30\u001b[0m                \u001b[0mY_ph\u001b[0m\u001b[0;34m:\u001b[0m\u001b[0mY_train\u001b[0m\u001b[0;34m,\u001b[0m\u001b[0;34m\u001b[0m\u001b[0m\n\u001b[1;32m     31\u001b[0m                batch_size_ph:batch_size}\n\u001b[0;32m---> 32\u001b[0;31m   \u001b[0msess\u001b[0m\u001b[0;34m.\u001b[0m\u001b[0mrun\u001b[0m\u001b[0;34m(\u001b[0m\u001b[0mtrain_itr_initop\u001b[0m\u001b[0;34m,\u001b[0m\u001b[0mfeed_dict\u001b[0m\u001b[0;34m)\u001b[0m\u001b[0;34m\u001b[0m\u001b[0m\n\u001b[0m\u001b[1;32m     33\u001b[0m   \u001b[0;31m# train loop\u001b[0m\u001b[0;34m\u001b[0m\u001b[0;34m\u001b[0m\u001b[0m\n\u001b[1;32m     34\u001b[0m   \u001b[0;32mfor\u001b[0m \u001b[0mi\u001b[0m \u001b[0;32min\u001b[0m \u001b[0mrange\u001b[0m\u001b[0;34m(\u001b[0m\u001b[0mitr\u001b[0m\u001b[0;34m)\u001b[0m\u001b[0;34m:\u001b[0m\u001b[0;34m\u001b[0m\u001b[0m\n",
      "\u001b[0;32m/Users/abeukers/anaconda/lib/python3.6/site-packages/tensorflow/python/client/session.py\u001b[0m in \u001b[0;36mrun\u001b[0;34m(self, fetches, feed_dict, options, run_metadata)\u001b[0m\n\u001b[1;32m    903\u001b[0m     \u001b[0;32mtry\u001b[0m\u001b[0;34m:\u001b[0m\u001b[0;34m\u001b[0m\u001b[0m\n\u001b[1;32m    904\u001b[0m       result = self._run(None, fetches, feed_dict, options_ptr,\n\u001b[0;32m--> 905\u001b[0;31m                          run_metadata_ptr)\n\u001b[0m\u001b[1;32m    906\u001b[0m       \u001b[0;32mif\u001b[0m \u001b[0mrun_metadata\u001b[0m\u001b[0;34m:\u001b[0m\u001b[0;34m\u001b[0m\u001b[0m\n\u001b[1;32m    907\u001b[0m         \u001b[0mproto_data\u001b[0m \u001b[0;34m=\u001b[0m \u001b[0mtf_session\u001b[0m\u001b[0;34m.\u001b[0m\u001b[0mTF_GetBuffer\u001b[0m\u001b[0;34m(\u001b[0m\u001b[0mrun_metadata_ptr\u001b[0m\u001b[0;34m)\u001b[0m\u001b[0;34m\u001b[0m\u001b[0m\n",
      "\u001b[0;32m/Users/abeukers/anaconda/lib/python3.6/site-packages/tensorflow/python/client/session.py\u001b[0m in \u001b[0;36m_run\u001b[0;34m(self, handle, fetches, feed_dict, options, run_metadata)\u001b[0m\n\u001b[1;32m   1114\u001b[0m                              \u001b[0;34m'which has shape %r'\u001b[0m \u001b[0;34m%\u001b[0m\u001b[0;34m\u001b[0m\u001b[0m\n\u001b[1;32m   1115\u001b[0m                              (np_val.shape, subfeed_t.name,\n\u001b[0;32m-> 1116\u001b[0;31m                               str(subfeed_t.get_shape())))\n\u001b[0m\u001b[1;32m   1117\u001b[0m           \u001b[0;32mif\u001b[0m \u001b[0;32mnot\u001b[0m \u001b[0mself\u001b[0m\u001b[0;34m.\u001b[0m\u001b[0mgraph\u001b[0m\u001b[0;34m.\u001b[0m\u001b[0mis_feedable\u001b[0m\u001b[0;34m(\u001b[0m\u001b[0msubfeed_t\u001b[0m\u001b[0;34m)\u001b[0m\u001b[0;34m:\u001b[0m\u001b[0;34m\u001b[0m\u001b[0m\n\u001b[1;32m   1118\u001b[0m             \u001b[0;32mraise\u001b[0m \u001b[0mValueError\u001b[0m\u001b[0;34m(\u001b[0m\u001b[0;34m'Tensor %s may not be fed.'\u001b[0m \u001b[0;34m%\u001b[0m \u001b[0msubfeed_t\u001b[0m\u001b[0;34m)\u001b[0m\u001b[0;34m\u001b[0m\u001b[0m\n",
      "\u001b[0;31mValueError\u001b[0m: Cannot feed value of shape (4, 2) for Tensor 'Placeholder_1:0', which has shape '(?, 1)'"
     ]
    }
   ],
   "source": [
    "graph = tf.Graph()\n",
    "indim = outdim = X_train.shape[1]\n",
    "k = 1\n",
    "layer_dims = [[indim,k],[k,k],[k,outdim]]\n",
    "\n",
    "# Graph\n",
    "with graph.as_default():\n",
    "  X_ph = tf.placeholder(tf.float32,shape=[None,indim])\n",
    "  Y_ph = tf.placeholder(tf.float32,shape=[None,outdim])\n",
    "  batch_size_ph = tf.placeholder(tf.int64)\n",
    "  # iterator\n",
    "  itr,train_itr_initop,test_itr_initop = setup_tfds(X_ph,Y_ph,batch_size_ph)\n",
    "  batch_x,batch_y = itr.get_next()\n",
    "  # setup graph\n",
    "  yhat = setup_inference(batch_x,layer_dims)\n",
    "  # loss\n",
    "  loss = tf.losses.softmax_cross_entropy(onehot_labels=batch_y,logits=yhat)\n",
    "  # minimizer\n",
    "  train_op = tf.train.GradientDescentOptimizer(0.005).minimize(loss)\n",
    "  # eval\n",
    "\n",
    "batch_size = 1\n",
    "itr = 20000\n",
    "Lloss = []\n",
    "with tf.Session(graph=graph) as sess:\n",
    "  tf.global_variables_initializer().run()\n",
    "  \n",
    "  ## train\n",
    "  feed_dict = {X_ph:X_train,\n",
    "               Y_ph:Y_train,\n",
    "               batch_size_ph:batch_size}\n",
    "  sess.run(train_itr_initop,feed_dict)\n",
    "  # train loop\n",
    "  for i in range(itr):\n",
    "    _,_loss = sess.run([train_op,loss])\n",
    "    Lloss.append(_loss)\n",
    "    if i%int(itr/100) == 0:\n",
    "      print(i,_loss)\n",
    "    \n",
    "  ## test\n",
    "  feed_dict = {X_ph:X_train,\n",
    "               Y_ph:Y_train,\n",
    "               batch_size_ph:X_train.shape[0]}\n",
    "  sess.run(test_itr_initop,feed_dict)\n",
    "  _yte = sess.run(yhat)\n",
    "  "
   ]
  },
  {
   "cell_type": "code",
   "execution_count": 156,
   "metadata": {},
   "outputs": [
    {
     "data": {
      "text/plain": [
       "array([[1.],\n",
       "       [1.],\n",
       "       [1.],\n",
       "       [1.]], dtype=float32)"
      ]
     },
     "execution_count": 156,
     "metadata": {},
     "output_type": "execute_result"
    }
   ],
   "source": [
    "_yte.round(2)"
   ]
  }
 ],
 "metadata": {
  "kernelspec": {
   "display_name": "Python 3",
   "language": "python",
   "name": "python3"
  },
  "language_info": {
   "codemirror_mode": {
    "name": "ipython",
    "version": 3
   },
   "file_extension": ".py",
   "mimetype": "text/x-python",
   "name": "python",
   "nbconvert_exporter": "python",
   "pygments_lexer": "ipython3",
   "version": "3.6.1"
  }
 },
 "nbformat": 4,
 "nbformat_minor": 2
}
