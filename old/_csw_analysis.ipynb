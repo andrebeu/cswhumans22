{
 "cells": [
  {
   "cell_type": "code",
   "execution_count": 1,
   "metadata": {
    "collapsed": true
   },
   "outputs": [],
   "source": [
    "%load_ext autoreload\n",
    "%autoreload 2"
   ]
  },
  {
   "cell_type": "code",
   "execution_count": 2,
   "metadata": {
    "collapsed": true
   },
   "outputs": [],
   "source": [
    "from csw_analysis import *"
   ]
  },
  {
   "cell_type": "code",
   "execution_count": 3,
   "metadata": {
    "collapsed": true
   },
   "outputs": [],
   "source": [
    "exp_dir = \"../mturk_data/exp_0330083713\""
   ]
  },
  {
   "cell_type": "code",
   "execution_count": 6,
   "metadata": {},
   "outputs": [
    {
     "name": "stdout",
     "output_type": "stream",
     "text": [
      "table name: data_0330\n",
      "2 subjects\n"
     ]
    }
   ],
   "source": [
    "sql_df = get_sql_df(exp_dir)\n",
    "sql_dstr = sql_df['datastring'][0]\n"
   ]
  },
  {
   "cell_type": "code",
   "execution_count": 11,
   "metadata": {
    "scrolled": true
   },
   "outputs": [
    {
     "ename": "TypeError",
     "evalue": "make_subj_df() missing 1 required positional argument: 'condition_num'",
     "output_type": "error",
     "traceback": [
      "\u001b[0;31m---------------------------------------------------------------------------\u001b[0m",
      "\u001b[0;31mTypeError\u001b[0m                                 Traceback (most recent call last)",
      "\u001b[0;32m<ipython-input-11-2d4ef93a3f9f>\u001b[0m in \u001b[0;36m<module>\u001b[0;34m()\u001b[0m\n\u001b[0;32m----> 1\u001b[0;31m \u001b[0msubj_df\u001b[0m \u001b[0;34m=\u001b[0m \u001b[0mmake_subj_df\u001b[0m\u001b[0;34m(\u001b[0m\u001b[0msql_dstr\u001b[0m\u001b[0;34m)\u001b[0m\u001b[0;34m\u001b[0m\u001b[0m\n\u001b[0m\u001b[1;32m      2\u001b[0m \u001b[0msubj_df\u001b[0m\u001b[0;34m\u001b[0m\u001b[0m\n",
      "\u001b[0;31mTypeError\u001b[0m: make_subj_df() missing 1 required positional argument: 'condition_num'"
     ]
    }
   ],
   "source": [
    "subj_df = make_subj_df(sql_dstr)\n",
    "subj_df"
   ]
  },
  {
   "cell_type": "code",
   "execution_count": 47,
   "metadata": {
    "collapsed": true
   },
   "outputs": [],
   "source": [
    "q_state_idx = 101\n",
    "\n",
    "edge_count_D = get_edge_count_D(subj_df,q_state_idx)\n",
    "row = subj_df.iloc[q_state_idx]\n",
    "if not row['question']: assert False, \"not a question state\"\n",
    "edge = row['edge']\n",
    "altedge = row['altedge']\n",
    "edge_count = edge_count_D[edge]\n",
    "altedge_count = edge_count_D[altedge]\n",
    "b = edge_count + altedge_count\n",
    "if b == 0:\n",
    "  exp_edge_pr = exp_altedge_pr = 0\n",
    "else:\n",
    "  exp_edge_pr = edge_count / b\n",
    "  exp_altedge_pr = altedge_count / b\n",
    "  assert exp_edge_pr + exp_altedge_pr > .99\n"
   ]
  },
  {
   "cell_type": "markdown",
   "metadata": {},
   "source": [
    "need parse QA file to extract what graph was instantiated in each story pass\n"
   ]
  },
  {
   "cell_type": "code",
   "execution_count": null,
   "metadata": {
    "collapsed": true
   },
   "outputs": [],
   "source": []
  }
 ],
 "metadata": {
  "kernelspec": {
   "display_name": "Python 3",
   "language": "python",
   "name": "python3"
  },
  "language_info": {
   "codemirror_mode": {
    "name": "ipython",
    "version": 3
   },
   "file_extension": ".py",
   "mimetype": "text/x-python",
   "name": "python",
   "nbconvert_exporter": "python",
   "pygments_lexer": "ipython3",
   "version": "3.6.1"
  }
 },
 "nbformat": 4,
 "nbformat_minor": 2
}
