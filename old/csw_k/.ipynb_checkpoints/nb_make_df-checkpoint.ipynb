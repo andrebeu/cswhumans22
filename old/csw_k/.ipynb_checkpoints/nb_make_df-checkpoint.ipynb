{
 "cells": [
  {
   "cell_type": "code",
   "execution_count": 8,
   "metadata": {
    "collapsed": true
   },
   "outputs": [],
   "source": [
    "import os\n",
    "from os.path import join as opj\n",
    "from glob import glob as glob\n",
    "import pandas as pd\n",
    "import numpy as np\n",
    "from collections import Counter"
   ]
  },
  {
   "cell_type": "code",
   "execution_count": 5,
   "metadata": {},
   "outputs": [],
   "source": [
    "root_path = \"/Users/abeukers/wd/coffeworld_exp/csw_k\"\n",
    "timeline_fpaths = glob(opj(root_path,\"stim&timeline\",\"timeline*\"))\n",
    "data_path = glob(opj(root_path,\"sliderdata\",\"DATACSW*\"))\n",
    "\n",
    "# sid = os.path.split(data_fpath)[-1].split('-')[-1].split('.')[0]\n",
    "# save_df_fpath = opj(root_path,'dataframes','df%s.csv'%sid)"
   ]
  },
  {
   "cell_type": "markdown",
   "metadata": {},
   "source": [
    "## timeline and slider data -> DF"
   ]
  },
  {
   "cell_type": "code",
   "execution_count": 9,
   "metadata": {},
   "outputs": [
    {
     "data": {
      "text/plain": [
       "['/Users/abeukers/wd/coffeworld_exp/csw_k/stim&timeline/timeline-8.txt',\n",
       " '/Users/abeukers/wd/coffeworld_exp/csw_k/stim&timeline/timeline-9.txt',\n",
       " '/Users/abeukers/wd/coffeworld_exp/csw_k/stim&timeline/timeline-7.txt',\n",
       " '/Users/abeukers/wd/coffeworld_exp/csw_k/stim&timeline/timeline-6.txt',\n",
       " '/Users/abeukers/wd/coffeworld_exp/csw_k/stim&timeline/timeline-4.txt',\n",
       " '/Users/abeukers/wd/coffeworld_exp/csw_k/stim&timeline/timeline-5.txt',\n",
       " '/Users/abeukers/wd/coffeworld_exp/csw_k/stim&timeline/timeline-1.txt',\n",
       " '/Users/abeukers/wd/coffeworld_exp/csw_k/stim&timeline/timeline-0.txt',\n",
       " '/Users/abeukers/wd/coffeworld_exp/csw_k/stim&timeline/timeline-2.txt',\n",
       " '/Users/abeukers/wd/coffeworld_exp/csw_k/stim&timeline/timeline-3.txt']"
      ]
     },
     "execution_count": 9,
     "metadata": {},
     "output_type": "execute_result"
    }
   ],
   "source": [
    "glob(opj(timeline_path,\"timeline*\"))\n",
    "\n",
    "# with open(timeline_fpath) as f:\n",
    "#   timeline = f.read().split(',')[:-1]\n",
    "\n",
    "# timeline"
   ]
  },
  {
   "cell_type": "code",
   "execution_count": 18,
   "metadata": {
    "collapsed": true
   },
   "outputs": [],
   "source": [
    "\n",
    "\n",
    "# read timeline\n",
    "state_dicts = [] # list of dicts\n",
    "f = lambda x: x.split('_')\n",
    "story_pass = -1\n",
    "for _st in map(f,timeline):\n",
    "  state_dict = {}\n",
    "  state_dict['state_id'] = _st[1]\n",
    "  if _st[0] == 'q':\n",
    "    state_dict['s_or_q'] = 'q'\n",
    "    state_dict['edge'] = _st[2]\n",
    "    state_dict['altedge'] = _st[3]\n",
    "    state_dict['objective_pr'] = float(_st[4])\n",
    "    state_dict['qtype'] = _st[5]\n",
    "    # left or right correct response\n",
    "    if _st[6] == '10':\n",
    "      state_dict['slider_true_right'] = True\n",
    "    elif _st[6] == '01':\n",
    "      state_dict['slider_true_right'] = False\n",
    "  if _st[0] == 's':\n",
    "    state_dict['s_or_q'] = 's'\n",
    "    state_dict['state'] = _st[2]\n",
    "    if _st[2] == 'BEGIN': story_pass += 1\n",
    "  state_dict['story_pass'] = story_pass\n",
    "  state_dicts.append(state_dict)\n",
    "\n",
    "# assemble dataframe\n",
    "timeline_df = pd.DataFrame(\n",
    "  state_dicts,columns=['story_pass','s_or_q', 'state', 'qtype',\n",
    "    'edge','altedge','slider_true_right','objective_pr']\n",
    ")\n",
    "\n",
    "\n"
   ]
  },
  {
   "cell_type": "code",
   "execution_count": 19,
   "metadata": {
    "collapsed": true
   },
   "outputs": [],
   "source": [
    "# timeline data\n",
    "timeline_df = make_timeline_df(timeline_fpath)\n",
    "# slider data\n",
    "slider_df = pd.DataFrame.from_csv(data_fpath,index_col=3)[['trial_type','response']]\n",
    "\n",
    "# put together\n",
    "df = slider_df.merge(timeline_df, left_index=True, right_index=True)\n",
    "\n",
    "# df[df['s_or_q'] == 'q']"
   ]
  },
  {
   "cell_type": "markdown",
   "metadata": {},
   "source": [
    "## experienced probabilities"
   ]
  },
  {
   "cell_type": "code",
   "execution_count": 20,
   "metadata": {
    "collapsed": true
   },
   "outputs": [],
   "source": [
    "ecount = Counter({e:0 for e in set(df.edge)})\n",
    "\n",
    "for i in range(len(df)):\n",
    "  \n",
    "  e = df.iloc[i]['edge']\n",
    "  ae = df.iloc[i]['altedge']\n",
    "  df.set_value(i,'edge_count',ecount[e])\n",
    "  df.set_value(i,'altedge_count',ecount[ae])\n",
    "\n",
    "  # calculate normalized experienced probability   \n",
    "  if ecount[e]+ecount[ae]==0:\n",
    "    experienced_edge = 0\n",
    "    experienced_altedge = 0\n",
    "  else:\n",
    "    experienced_edge = ecount[e] / (ecount[e]+ecount[ae])\n",
    "    experienced_altedge = ecount[ae] / (ecount[e]+ecount[ae])\n",
    "    \n",
    "  df.set_value(i,'ex_pr_edge',experienced_edge*100)\n",
    "  df.set_value(i,'ex_pr_altedge',experienced_altedge*100)\n",
    "    \n",
    "  # edge count at every given trial\n",
    "  ecount[e] += 1\n",
    "\n",
    "# df[df['s_or_q'] == 'q']"
   ]
  },
  {
   "cell_type": "markdown",
   "metadata": {},
   "source": [
    "## correct slider position"
   ]
  },
  {
   "cell_type": "markdown",
   "metadata": {},
   "source": [
    "resp_objective\n",
    "resp_experienced_edge\n",
    "resp_experienced_altedge"
   ]
  },
  {
   "cell_type": "code",
   "execution_count": 21,
   "metadata": {
    "collapsed": true
   },
   "outputs": [],
   "source": [
    "for i in range(len(df)):\n",
    "  if pd.isnull(df.iloc[i]['slider_true_right']):\n",
    "    continue\n",
    "  elif df.iloc[i]['slider_true_right']:\n",
    "    resp_obj = df.iloc[i]['objective_pr']\n",
    "    resp_ex_pr_edge = df.iloc[i]['ex_pr_edge']\n",
    "    resp_ex_pr_altedge = df.iloc[i]['ex_pr_altedge']\n",
    "  else: # left response is correct\n",
    "    resp_obj = 100 - df.iloc[i]['objective_pr']\n",
    "    resp_ex_pr_edge = 100 - df.iloc[i]['ex_pr_edge']\n",
    "    resp_ex_pr_altedge = 100 - df.iloc[i]['ex_pr_altedge']\n",
    "    \n",
    "  df.set_value(i,'resp_objective',resp_obj)\n",
    "  df.set_value(i,'resp_ex_pr_edge',resp_ex_pr_edge)\n",
    "  df.set_value(i,'resp_ex_pr_altedge',resp_ex_pr_altedge)"
   ]
  },
  {
   "cell_type": "code",
   "execution_count": 22,
   "metadata": {
    "collapsed": true
   },
   "outputs": [],
   "source": [
    "df.to_csv(save_df_fpath)"
   ]
  }
 ],
 "metadata": {
  "kernelspec": {
   "display_name": "Python 3",
   "language": "python",
   "name": "python3"
  },
  "language_info": {
   "codemirror_mode": {
    "name": "ipython",
    "version": 3
   },
   "file_extension": ".py",
   "mimetype": "text/x-python",
   "name": "python",
   "nbconvert_exporter": "python",
   "pygments_lexer": "ipython3",
   "version": "3.6.1"
  }
 },
 "nbformat": 4,
 "nbformat_minor": 2
}
