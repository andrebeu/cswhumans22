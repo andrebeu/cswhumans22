{
 "cells": [
  {
   "cell_type": "code",
   "execution_count": 1,
   "metadata": {},
   "outputs": [
    {
     "name": "stdout",
     "output_type": "stream",
     "text": [
      "incsw2\n",
      "incsw2\n"
     ]
    },
    {
     "data": {
      "text/plain": [
       "<module 'csw2' from '/Users/abeukers/wd/coffeworld_exp/csw_exp/csw2.py'>"
      ]
     },
     "execution_count": 1,
     "metadata": {},
     "output_type": "execute_result"
    }
   ],
   "source": [
    "import csw2 as c\n",
    "from collections import deque\n",
    "from numpy import random\n",
    "import re\n",
    "from importlib import reload\n"
   ]
  },
  {
   "cell_type": "code",
   "execution_count": null,
   "metadata": {
    "collapsed": true
   },
   "outputs": [],
   "source": [
    "reload(c)\n",
    "path2qafile = \"/Users/abeukers/Documents/github/narrative_git/story/fight_ken_10_1/fight_ken_QA_10_1.txt\"\n",
    "\n",
    "with open(path2qafile) as file:\n",
    "  qa_file = file.read() \n",
    "\n",
    "code_body = \"\"\n",
    "timeline = \"\"\n",
    "prQ = 0.8\n",
    "qa_full = qa_file.split('\\n\\n\\n')[:-1]\n",
    "\n",
    "state_count = -1\n",
    "for qa_one in qa_full:\n",
    "  \n",
    "  info = qa_one.split('\\n\\n')[0].split('\\n')\n",
    "  rf_str, ep_str = info[0], info[1]\n",
    "  story_blocks = qa_one.split('\\n\\n')[1:-1]\n",
    "  story_end = qa_one.split('\\n\\n')[-1]\n",
    "\n",
    "  edge_list,state_sentence_dict, current_wnext, \\\n",
    "    current_rnext = c.parse_QA(story_blocks)\n",
    "\n",
    "  for edge in edge_list:\n",
    "    state_count += 1\n",
    "    trial_id = \"%i__%s__%s\" %(state_count,*edge)\n",
    "    current_state = edge[0]\n",
    "    \n",
    "    sentence = state_sentence_dict[current_state]\n",
    "\n",
    "    story_snip = c.story_snippet(trial_id,state_count, sentence)\n",
    "    code_body += story_snip\n",
    "    timeline += 't__%s,'% trial_id\n",
    "\n",
    "    if random.uniform(0,1) < prQ:\n",
    "      state_count += 1\n",
    "      trial_id = \"%i__%s__%s\" %(state_count,*edge)\n",
    "      qname,question_snip = c.question_snippet(trial_id,\n",
    "        current_state,current_wnext,current_rnext)\n",
    "      print(qname)\n",
    "      code_body += question_snip\n",
    "      timeline += '%s,' % qname\n",
    "\n",
    "  \n",
    "\n",
    "  \n",
    "\n",
    "\n",
    "      "
   ]
  },
  {
   "cell_type": "code",
   "execution_count": null,
   "metadata": {
    "collapsed": true
   },
   "outputs": [],
   "source": [
    "## finalizing and writing\n",
    "\n",
    "start = \"\"\"\n",
    "<!DOCTYPE html>\n",
    "<html><head>\n",
    "    <script src=\"jspsych-master/jspsych.js\"></script>\n",
    "    <link rel=\"stylesheet\" href=\"jspsych-master/css/jspsych.css\"></link>\n",
    "\n",
    "    <script src = \"jspsych-master/plugins/jspsych-instructions.js\"></script>\n",
    "    <script src = \"jspsych-master/plugins/jspsych-html-slider-response.js\"></script>\n",
    "\n",
    "    <style> img { width: 300px; } </style> \n",
    "    </head><body></body>\n",
    "\n",
    "<script>\n",
    "\"\"\" \n",
    "\n",
    "end = \"\"\"\n",
    "function saveTextToFile(textstr, filename) {\n",
    "    var blobToSave = new Blob([textstr], {\n",
    "      type: 'text/plain'\n",
    "    });\n",
    "    var blobURL = \"\";\n",
    "    if (typeof window.webkitURL !== 'undefined') {\n",
    "      blobURL = window.webkitURL.createObjectURL(blobToSave);\n",
    "    } else {\n",
    "      blobURL = window.URL.createObjectURL(blobToSave);\n",
    "    }\n",
    "\n",
    "    var display_element = jsPsych.getDisplayElement();\n",
    "\n",
    "    display_element.insertAdjacentHTML('beforeend','<a id=\"jspsych-download-as-text-link\" style=\"display:none;\" download=\"'+filename+'\" href=\"'+blobURL+'\">click to download</a>');\n",
    "    document.getElementById('jspsych-download-as-text-link').click();\n",
    "  }\n",
    "  \n",
    "\n",
    "  jsPsych.init({\n",
    "    timeline: [%s],\n",
    "    on_finish: function() {\n",
    "      jsPsych.data.displayData();\n",
    "      var data_string;\n",
    "      data_string = jsPsych.data.get().csv()\n",
    "      saveTextToFile(data_string, 'DATACSW.csv')\n",
    "    },\n",
    "    default_iti: 250\n",
    "  });\n",
    "\n",
    "</script>\n",
    "\"\"\" % timeline\n",
    "\n",
    "final_script = start + code_body + end\n",
    "\n",
    "\n",
    "file = open(\"csw2.html\",'w')\n",
    "file.write(final_script)\n",
    "file.close()  \n",
    "\n"
   ]
  }
 ],
 "metadata": {
  "kernelspec": {
   "display_name": "Python 3",
   "language": "python",
   "name": "python3"
  },
  "language_info": {
   "codemirror_mode": {
    "name": "ipython",
    "version": 3
   },
   "file_extension": ".py",
   "mimetype": "text/x-python",
   "name": "python",
   "nbconvert_exporter": "python",
   "pygments_lexer": "ipython3",
   "version": "3.6.1"
  }
 },
 "nbformat": 4,
 "nbformat_minor": 2
}
