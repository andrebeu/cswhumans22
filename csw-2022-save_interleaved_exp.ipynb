{
 "cells": [
  {
   "cell_type": "code",
   "execution_count": 1,
   "metadata": {},
   "outputs": [],
   "source": [
    "import os, re\n",
    "import pandas as pd\n",
    "import numpy as np\n",
    "import json\n",
    "\n",
    "from matplotlib import pyplot as plt\n",
    "%matplotlib inline\n",
    "plt.rcParams['font.size'] = 22\n",
    "\n",
    "%load_ext autoreload\n",
    "%reload_ext autoreload\n",
    "%autoreload 2"
   ]
  },
  {
   "cell_type": "code",
   "execution_count": 2,
   "metadata": {},
   "outputs": [],
   "source": [
    "from csw2022 import *"
   ]
  },
  {
   "cell_type": "markdown",
   "metadata": {},
   "source": [
    "### reading from database: once stable move outside"
   ]
  },
  {
   "cell_type": "markdown",
   "metadata": {},
   "source": [
    "'40 blocked': '1000clq',\n",
    "'interleaved': 'i1000cl', 2018_.../exp_1020103153"
   ]
  },
  {
   "cell_type": "code",
   "execution_count": 3,
   "metadata": {},
   "outputs": [],
   "source": [
    "stateD = {\n",
    "  \"BEGIN\":0,\n",
    "  \"LOCNODEB\":1,\n",
    "  \"LOCNODEC\":2,\n",
    "  \"NODE11\":3,\n",
    "  \"NODE12\":4,\n",
    "  \"NODE21\":5,\n",
    "  \"NODE22\":6,\n",
    "  \"NODE31\":7,\n",
    "  \"NODE32\":8,\n",
    "  \"END\":9\n",
    "}"
   ]
  },
  {
   "cell_type": "code",
   "execution_count": 4,
   "metadata": {
    "scrolled": true
   },
   "outputs": [
    {
     "name": "stdout",
     "output_type": "stream",
     "text": [
      "exp versions found in table:\n",
      "10.13.18\n",
      "1000cl\n",
      "1000clq\n",
      "9010cl\n",
      "i1000cl\n",
      "20B1000cl\n",
      "RT01B1000cl\n",
      "csw1000block40.04.07.19\n",
      "csw1000block01.04.25.19\n",
      "csw1000block02.04.26.19\n",
      "csw1000rand50.04.29.19\n",
      "csw1000block01intheloc.05.01.19\n",
      "csw1000rand01.05.03.19\n",
      "csw1000block02.05.07.19\n",
      "csw1000boldmdp.05.09.19\n",
      "csw1000insertedblock0.09.22.19\n",
      "csw1000insertedblock1.09.30.19\n",
      "csw1000insertedblock1.10.07.19\n",
      "csw1000insertedblock0.10.08.19\n",
      "csw1000insertedblock2.10.09.19\n",
      "csw1000insertedblock2.10.10.19\n",
      "\n",
      "-loading code version: csw1000block01.04.25.19\n",
      "N = 56 subjects\n",
      "exp versions found in table:\n",
      "10.13.18\n",
      "1000cl\n",
      "1000clq\n",
      "9010cl\n",
      "i1000cl\n",
      "20B1000cl\n",
      "RT01B1000cl\n",
      "csw1000block40.04.07.19\n",
      "csw1000block01.04.25.19\n",
      "csw1000block02.04.26.19\n",
      "csw1000rand50.04.29.19\n",
      "csw1000block01intheloc.05.01.19\n",
      "csw1000rand01.05.03.19\n",
      "csw1000block02.05.07.19\n",
      "csw1000boldmdp.05.09.19\n",
      "csw1000insertedblock0.09.22.19\n",
      "csw1000insertedblock1.09.30.19\n",
      "csw1000insertedblock1.10.07.19\n",
      "csw1000insertedblock0.10.08.19\n",
      "csw1000insertedblock2.10.09.19\n",
      "csw1000insertedblock2.10.10.19\n",
      "\n",
      "-loading code version: RT01B1000cl\n",
      "N = 55 subjects\n"
     ]
    }
   ],
   "source": [
    "\n",
    "for condition in ['interleaved_rep',\"interleaved\"]:\n",
    "  ## load psiturk `experiment dataframe`\n",
    "  sql_df = get_sql_df(get_dataset_code(condition))\n",
    "  ## from `experiment dataframe`, pull data pertaining to subjects responses\n",
    "  subj_df = make_subj_df(sql_df['datastring'].iloc[0])\n",
    "  ## reindex dataframe to make easy to read\n",
    "  group_df = make_group_df(sql_df)\n",
    "  # breakup dataframe by story and question nodes\n",
    "  _,_,(_,group_qdf),(_,group_sdf) = group_df.groupby('type')\n",
    "  # breakup question dataframe by filler and transition nodes\n",
    "  (_,group_fqdf),(_,group_tqdf) = group_qdf.groupby('qtype')\n",
    "  group_tqdf\n",
    "  \n",
    "  ## GET AND SAVE exp sequence of subjects\n",
    "  for subjnum in group_sdf.reset_index().subjnum.unique():\n",
    "    nstates = 6\n",
    "    exp = np.array(\n",
    "      [stateD[i] for i in group_sdf.loc[subjnum].state]\n",
    "    ).reshape(200,6)# 6 states per trial, 200 trials\n",
    "    np.save('experiment_data/exp_states/%s/exp-sub%.2i'%(condition,subjnum),exp)\n",
    "    "
   ]
  }
 ],
 "metadata": {
  "kernelspec": {
   "display_name": "Python 3",
   "language": "python",
   "name": "python3"
  },
  "language_info": {
   "codemirror_mode": {
    "name": "ipython",
    "version": 3
   },
   "file_extension": ".py",
   "mimetype": "text/x-python",
   "name": "python",
   "nbconvert_exporter": "python",
   "pygments_lexer": "ipython3",
   "version": "3.8.8"
  }
 },
 "nbformat": 4,
 "nbformat_minor": 2
}
