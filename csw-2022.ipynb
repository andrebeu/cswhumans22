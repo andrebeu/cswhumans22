{
 "cells": [
  {
   "cell_type": "code",
   "execution_count": 1,
   "metadata": {},
   "outputs": [],
   "source": [
    "import os, re\n",
    "import pandas as pd\n",
    "import numpy as np\n",
    "import json\n",
    "\n",
    "from matplotlib import pyplot as plt\n",
    "import seaborn as sns\n",
    "sns.set_context('talk')\n",
    "%matplotlib inline\n",
    "plt.rcParams['font.size'] = 22\n",
    "\n",
    "%load_ext autoreload\n",
    "%reload_ext autoreload\n",
    "%autoreload 2"
   ]
  },
  {
   "cell_type": "code",
   "execution_count": 2,
   "metadata": {},
   "outputs": [],
   "source": [
    "from csw2022 import *"
   ]
  },
  {
   "cell_type": "markdown",
   "metadata": {},
   "source": [
    "### reading from database: once stable move outside"
   ]
  },
  {
   "cell_type": "markdown",
   "metadata": {},
   "source": [
    "'40 blocked': '1000clq',\n",
    "'interleaved': 'i1000cl', 2018_.../exp_1020103153"
   ]
  },
  {
   "cell_type": "code",
   "execution_count": 3,
   "metadata": {
    "scrolled": true
   },
   "outputs": [],
   "source": [
    "def load_dfs(condition):\n",
    "  ## load psiturk `experiment dataframe`\n",
    "  sql_df = get_sql_df(get_dataset_code(condition))\n",
    "  ## from `experiment dataframe`, pull data pertaining to subjects responses\n",
    "  subj_df = make_subj_df(sql_df['datastring'].iloc[0])\n",
    "  ## reindex dataframe to make easy to read\n",
    "  group_df = make_group_df(sql_df)\n",
    "  # breakup dataframe by story and question nodes\n",
    "  _,_,(_,group_qdf),(_,group_sdf) = group_df.groupby('type')\n",
    "  # breakup question dataframe by filler and transition nodes\n",
    "  (_,group_fqdf),(_,group_tqdf) = group_qdf.groupby('qtype')\n",
    "  return group_df,group_tqdf,group_sdf,group_qdf,group_fqdf"
   ]
  },
  {
   "cell_type": "markdown",
   "metadata": {},
   "source": [
    "### dataframe processing"
   ]
  },
  {
   "cell_type": "code",
   "execution_count": 4,
   "metadata": {},
   "outputs": [
    {
     "name": "stdout",
     "output_type": "stream",
     "text": [
      "exp versions found in table:\n",
      "10.13.18\n",
      "1000cl\n",
      "1000clq\n",
      "9010cl\n",
      "i1000cl\n",
      "20B1000cl\n",
      "RT01B1000cl\n",
      "csw1000block40.04.07.19\n",
      "csw1000block01.04.25.19\n",
      "csw1000block02.04.26.19\n",
      "csw1000rand50.04.29.19\n",
      "csw1000block01intheloc.05.01.19\n",
      "csw1000rand01.05.03.19\n",
      "csw1000block02.05.07.19\n",
      "csw1000boldmdp.05.09.19\n",
      "csw1000insertedblock0.09.22.19\n",
      "csw1000insertedblock1.09.30.19\n",
      "csw1000insertedblock1.10.07.19\n",
      "csw1000insertedblock0.10.08.19\n",
      "csw1000insertedblock2.10.09.19\n",
      "csw1000insertedblock2.10.10.19\n",
      "\n",
      "-loading code version: csw1000block01.04.25.19\n",
      "N = 56 subjects\n"
     ]
    }
   ],
   "source": [
    "condition='interleaved_rep'\n",
    "group_df,group_tqdf,group_sdf,group_qdf,group_fqdf = load_dfs(condition)"
   ]
  },
  {
   "cell_type": "code",
   "execution_count": 5,
   "metadata": {},
   "outputs": [],
   "source": [
    "## threshold based on filler questions\n",
    "THRESHOLD = 0.5\n",
    "plt_group_tqdf = get_thresholded_tqdf(group_tqdf,group_fqdf,threshold=THRESHOLD)\n",
    "## remove begin node probe (only happens during training)\n",
    "plt_group_tqdf = select_transition_probes(plt_group_tqdf)"
   ]
  },
  {
   "cell_type": "markdown",
   "metadata": {},
   "source": [
    "# plotting"
   ]
  },
  {
   "cell_type": "markdown",
   "metadata": {},
   "source": [
    "### group avg"
   ]
  },
  {
   "cell_type": "code",
   "execution_count": 6,
   "metadata": {},
   "outputs": [],
   "source": [
    "num_subs = len(plt_group_tqdf.index.get_level_values('subjnum').unique())\n",
    "\n",
    "# plotting\n",
    "grouping = 'story'\n",
    "M = plt_group_tqdf.correct_response.groupby([grouping]).mean()\n",
    "N = plt_group_tqdf.correct_response.groupby([grouping]).count()\n",
    "S = plt_group_tqdf.correct_response.groupby([grouping]).std()/np.sqrt(N)\n",
    "\n",
    "plt.figure(figsize=(15,4))\n",
    "plt.plot(np.arange(len(M))+1,M,c='purple',lw=3)\n",
    "# plt.bar(np.arange(len(M))+1,M,yerr=S)\n",
    "\n",
    "plt.axhline(0.5,c='lime',ls='--')\n",
    "plt.yticks(np.arange(0,1.1,.1))\n",
    "plt.ylim(0.2,1.01)\n",
    "plt.grid(axis='y')"
   ]
  },
  {
   "cell_type": "markdown",
   "metadata": {},
   "source": [
    "# single subject plotting\n",
    "* NB because questions were asked on a random subset of trials, any given subject might not have answered questions on every trial. so cannot compute single subject/trial level metrics (e.g. acc or score)"
   ]
  },
  {
   "cell_type": "code",
   "execution_count": 7,
   "metadata": {},
   "outputs": [],
   "source": [
    "for MA_WINDOW in [5]:\n",
    "  subj_data = plt_group_tqdf.correct_response.groupby(['subjnum'])\n",
    "  subj_data_plt = subj_data.apply(mov_avg,MA_WINDOW)\n",
    "\n",
    "  plt.close('all')\n",
    "  fig,axarr = plt.subplots(10,6,figsize=(36,30));axarr=axarr.reshape(-1)\n",
    "  for plt_idx,sub_idx in enumerate(subj_data_plt.index):\n",
    "    ax = axarr[plt_idx]\n",
    "    ax.set_title(sub_idx)\n",
    "    sub_ma = subj_data_plt[sub_idx]\n",
    "    ax.plot(range(len(sub_ma)),sub_ma,c='purple',lw=3)\n",
    "    ax.axvline(int(len(sub_ma)*(4/5))-15)\n",
    "    ax.set_xticks([])\n",
    "    ax.set_ylim(-0.05,1.05)\n",
    "    ax.axhline(0.5,c='r',ls='--')\n",
    "    ax.axhline(1,c='b',ls='--')\n",
    "\n",
    "  title = 'subs_%s_window_%i'%(condition,MA_WINDOW)\n",
    "  plt.savefig('figures/2022/subject/'+title)"
   ]
  }
 ],
 "metadata": {
  "kernelspec": {
   "display_name": "Python 3",
   "language": "python",
   "name": "python3"
  },
  "language_info": {
   "codemirror_mode": {
    "name": "ipython",
    "version": 3
   },
   "file_extension": ".py",
   "mimetype": "text/x-python",
   "name": "python",
   "nbconvert_exporter": "python",
   "pygments_lexer": "ipython3",
   "version": "3.8.8"
  }
 },
 "nbformat": 4,
 "nbformat_minor": 2
}
