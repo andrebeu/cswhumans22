{
 "cells": [
  {
   "cell_type": "code",
   "execution_count": 7,
   "metadata": {},
   "outputs": [
    {
     "name": "stdout",
     "output_type": "stream",
     "text": [
      "The autoreload extension is already loaded. To reload it, use:\n",
      "  %reload_ext autoreload\n"
     ]
    }
   ],
   "source": [
    "import os, re\n",
    "import pandas as pd\n",
    "import numpy as np\n",
    "import json\n",
    "from scipy import stats\n",
    "\n",
    "from helper_paper import *\n",
    "\n",
    "from matplotlib import pyplot as plt\n",
    "%matplotlib inline\n",
    "plt.rcParams['font.size'] = 22\n",
    "\n",
    "%load_ext autoreload\n",
    "%reload_ext autoreload\n",
    "%autoreload 2"
   ]
  },
  {
   "cell_type": "code",
   "execution_count": 3,
   "metadata": {},
   "outputs": [],
   "source": [
    "condL = ['interleaved',\n",
    "'interleaved_rep',\n",
    "'blocked',\n",
    "'blocked_rep',\n",
    "'explicit_interleaved',\n",
    "'inserted_early',\n",
    "'inserted_early_rep',\n",
    "'inserted_middle',\n",
    "'inserted_middle_rep',\n",
    "'inserted_late',\n",
    "'inserted_late_rep']"
   ]
  },
  {
   "cell_type": "code",
   "execution_count": 40,
   "metadata": {},
   "outputs": [],
   "source": [
    "pd.DataFrame.from_csv?"
   ]
  },
  {
   "cell_type": "code",
   "execution_count": 48,
   "metadata": {},
   "outputs": [
    {
     "name": "stderr",
     "output_type": "stream",
     "text": [
      "//anaconda3/lib/python3.7/site-packages/ipykernel_launcher.py:4: FutureWarning: from_csv is deprecated. Please use read_csv(...) instead. Note that some of the default arguments are different, so please refer to the documentation for from_csv when changing your function calls\n",
      "  after removing the cwd from sys.path.\n",
      "//anaconda3/lib/python3.7/site-packages/ipykernel_launcher.py:5: FutureWarning: from_csv is deprecated. Please use read_csv(...) instead. Note that some of the default arguments are different, so please refer to the documentation for from_csv when changing your function calls\n",
      "  \"\"\"\n"
     ]
    }
   ],
   "source": [
    "for cond in condL:\n",
    "  Sfpath = 'analysis_data/timecourses/'+cond+'-std.csv'\n",
    "  Mfpath = 'analysis_data/timecourses/'+cond+'-mean.csv'\n",
    "  S = pd.DataFrame.from_csv(Sfpath,header=None)\n",
    "  M = pd.DataFrame.from_csv(Mfpath,header=None)\n",
    "  plt.plot(M)\n",
    "  plt.fill_between(range(200),(M.values-S.values).squeeze(),(M.values+S.values).squeeze(),alpha=0.1)\n",
    "  plt.ylim(0,1)\n",
    "  plt.savefig('analysis_data/timecourses/'+cond+'-plt')\n",
    "  plt.close('all')\n"
   ]
  }
 ],
 "metadata": {
  "kernelspec": {
   "display_name": "Python 3",
   "language": "python",
   "name": "python3"
  },
  "language_info": {
   "codemirror_mode": {
    "name": "ipython",
    "version": 3
   },
   "file_extension": ".py",
   "mimetype": "text/x-python",
   "name": "python",
   "nbconvert_exporter": "python",
   "pygments_lexer": "ipython3",
   "version": "3.8.8"
  }
 },
 "nbformat": 4,
 "nbformat_minor": 2
}
